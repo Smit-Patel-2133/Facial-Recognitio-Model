{
 "cells": [
  {
   "cell_type": "code",
   "execution_count": 1,
   "id": "6b5a06bb-513e-4022-99e7-33a95f3eb02b",
   "metadata": {
    "ExecuteTime": {
     "end_time": "2024-08-02T17:22:50.730202Z",
     "start_time": "2024-08-02T17:22:50.720391Z"
    },
    "collapsed": false
   },
   "outputs": [],
   "source": [
    "# 1.2 Import Dependencies\n",
    "import cv2\n",
    "import os\n",
    "import random\n",
    "import numpy as np\n",
    "from matplotlib import pyplot as plt\n",
    "from tensorflow.keras.models import Model\n",
    "from tensorflow.keras.layers import Layer, Conv2D, Dense, MaxPooling2D, Input, Flatten\n",
    "import tensorflow as tf"
   ]
  },
  {
   "cell_type": "code",
   "execution_count": 2,
   "id": "b2206ec1-c0f3-4953-8fef-78c1ef35f91d",
   "metadata": {
    "ExecuteTime": {
     "end_time": "2024-08-02T17:22:51.087501Z",
     "start_time": "2024-08-02T17:22:51.078770Z"
    }
   },
   "outputs": [
    {
     "data": {
      "text/plain": [
       "[PhysicalDevice(name='/physical_device:GPU:0', device_type='GPU')]"
      ]
     },
     "execution_count": 2,
     "metadata": {},
     "output_type": "execute_result"
    }
   ],
   "source": [
    "# 1.3 Set GPU Growth\n",
    "gpus = tf.config.experimental.list_physical_devices('GPU')\n",
    "for gpu in gpus:\n",
    "    tf.config.experimental.set_memory_growth(gpu, True)\n",
    "gpus"
   ]
  },
  {
   "cell_type": "code",
   "execution_count": 3,
   "id": "c694c14b-e55d-44a8-9ef7-6d26ef581da8",
   "metadata": {
    "ExecuteTime": {
     "end_time": "2024-08-02T17:22:51.591819Z",
     "start_time": "2024-08-02T17:22:51.571746Z"
    }
   },
   "outputs": [],
   "source": [
    "# 1.4 Create Folder Structures\n",
    "POS_PATH = os.path.join('data', 'positive')\n",
    "NEG_PATH = os.path.join('data', 'negative')\n",
    "ANC_PATH = os.path.join('data', 'anchor')"
   ]
  },
  {
   "cell_type": "code",
   "execution_count": 4,
   "id": "44e9beb3-5e15-419d-93a1-16ef6a84b28c",
   "metadata": {
    "ExecuteTime": {
     "end_time": "2024-08-02T17:22:52.249547Z",
     "start_time": "2024-08-02T17:22:52.189969Z"
    }
   },
   "outputs": [
    {
     "ename": "FileNotFoundError",
     "evalue": "[WinError 3] The system cannot find the path specified: 'lfw'",
     "output_type": "error",
     "traceback": [
      "\u001B[1;31m---------------------------------------------------------------------------\u001B[0m",
      "\u001B[1;31mFileNotFoundError\u001B[0m                         Traceback (most recent call last)",
      "Cell \u001B[1;32mIn[4], line 3\u001B[0m\n\u001B[0;32m      1\u001B[0m \u001B[38;5;66;03m# 2.1 Untar Labelled Faces in the Wild Dataset\u001B[39;00m\n\u001B[0;32m      2\u001B[0m \u001B[38;5;66;03m# Move LFW Images to the data/negative directory\u001B[39;00m\n\u001B[1;32m----> 3\u001B[0m \u001B[38;5;28;01mfor\u001B[39;00m directory \u001B[38;5;129;01min\u001B[39;00m \u001B[43mos\u001B[49m\u001B[38;5;241;43m.\u001B[39;49m\u001B[43mlistdir\u001B[49m\u001B[43m(\u001B[49m\u001B[38;5;124;43m'\u001B[39;49m\u001B[38;5;124;43mlfw\u001B[39;49m\u001B[38;5;124;43m'\u001B[39;49m\u001B[43m)\u001B[49m:\n\u001B[0;32m      4\u001B[0m     \u001B[38;5;28;01mfor\u001B[39;00m file \u001B[38;5;129;01min\u001B[39;00m os\u001B[38;5;241m.\u001B[39mlistdir(os\u001B[38;5;241m.\u001B[39mpath\u001B[38;5;241m.\u001B[39mjoin(\u001B[38;5;124m'\u001B[39m\u001B[38;5;124mlfw\u001B[39m\u001B[38;5;124m'\u001B[39m, directory)):\n\u001B[0;32m      5\u001B[0m         EX_PATH \u001B[38;5;241m=\u001B[39m os\u001B[38;5;241m.\u001B[39mpath\u001B[38;5;241m.\u001B[39mjoin(\u001B[38;5;124m'\u001B[39m\u001B[38;5;124mlfw\u001B[39m\u001B[38;5;124m'\u001B[39m, directory, file)\n",
      "\u001B[1;31mFileNotFoundError\u001B[0m: [WinError 3] The system cannot find the path specified: 'lfw'"
     ]
    }
   ],
   "source": [
    "# 2.1 Untar Labelled Faces in the Wild Dataset\n",
    "# Move LFW Images to the data/negative directory\n",
    "for directory in os.listdir('lfw'):\n",
    "    for file in os.listdir(os.path.join('lfw', directory)):\n",
    "        EX_PATH = os.path.join('lfw', directory, file)\n",
    "        NEW_PATH = os.path.join(NEG_PATH, file)\n",
    "        os.replace(EX_PATH, NEW_PATH)"
   ]
  },
  {
   "cell_type": "code",
   "execution_count": 5,
   "id": "7866fd45-3de5-4884-befc-dd547779f7c3",
   "metadata": {
    "ExecuteTime": {
     "end_time": "2024-08-02T17:37:41.983880Z",
     "start_time": "2024-08-02T17:36:42.426391Z"
    }
   },
   "outputs": [],
   "source": [
    "# 2.2 Collect Positive and Anchor Classes\n",
    "import uuid\n",
    "\n",
    "cap = cv2.VideoCapture(1)\n",
    "while cap.isOpened():\n",
    "    ret, frame = cap.read()\n",
    "    frame = frame[120:120+250, 200:200+250, :]\n",
    "    if cv2.waitKey(1) & 0xFF == ord('a'):\n",
    "        imgname = os.path.join(ANC_PATH, '{}.jpg'.format(uuid.uuid1()))\n",
    "        cv2.imwrite(imgname, frame)\n",
    "    if cv2.waitKey(1) & 0xFF == ord('p'):\n",
    "        imgname = os.path.join(POS_PATH, '{}.jpg'.format(uuid.uuid1()))\n",
    "        cv2.imwrite(imgname, frame)\n",
    "    cv2.imshow('Image Collection', frame)\n",
    "    if cv2.waitKey(1) & 0xFF == ord('q'):\n",
    "        break\n",
    "cap.release()\n",
    "cv2.destroyAllWindows()"
   ]
  },
  {
   "cell_type": "code",
   "execution_count": 6,
   "id": "a0a34c39-9d30-4cb9-93a0-c111e7e49bec",
   "metadata": {
    "ExecuteTime": {
     "end_time": "2024-08-02T17:38:45.167284Z",
     "start_time": "2024-08-02T17:38:44.808570Z"
    }
   },
   "outputs": [],
   "source": [
    "# 3. Load and Preprocess Images\n",
    "\n",
    "# 3.1 Get Image Directories\n",
    "anchor = tf.data.Dataset.list_files(os.path.join(ANC_PATH, '*.jpg')).take(300)\n",
    "positive = tf.data.Dataset.list_files(os.path.join(POS_PATH, '*.jpg')).take(300)\n",
    "negative = tf.data.Dataset.list_files(os.path.join(NEG_PATH, '*.jpg')).take(300)"
   ]
  },
  {
   "cell_type": "code",
   "execution_count": 7,
   "id": "445d1eaf-114a-48a6-81d7-79f2c8aaf953",
   "metadata": {
    "ExecuteTime": {
     "end_time": "2024-08-02T17:38:45.356464Z",
     "start_time": "2024-08-02T17:38:45.350643Z"
    }
   },
   "outputs": [],
   "source": [
    "# 3.2 Preprocessing - Scale and Resize\n",
    "def preprocess(file_path):\n",
    "    byte_img = tf.io.read_file(file_path)\n",
    "    img = tf.io.decode_jpeg(byte_img)\n",
    "    img = tf.image.resize(img, (100, 100))\n",
    "    img = img / 255.0\n",
    "    return img"
   ]
  },
  {
   "cell_type": "code",
   "execution_count": 8,
   "id": "f8fef426-5457-40ad-a392-83d9aa1e91de",
   "metadata": {
    "ExecuteTime": {
     "end_time": "2024-08-02T17:38:45.777371Z",
     "start_time": "2024-08-02T17:38:45.753947Z"
    }
   },
   "outputs": [],
   "source": [
    "# 3.3 Create Labelled Dataset\n",
    "positives = tf.data.Dataset.zip((anchor, positive, tf.data.Dataset.from_tensor_slices(tf.ones(len(anchor)))))\n",
    "negatives = tf.data.Dataset.zip((anchor, negative, tf.data.Dataset.from_tensor_slices(tf.zeros(len(anchor)))))\n",
    "data = positives.concatenate(negatives)"
   ]
  },
  {
   "cell_type": "code",
   "execution_count": 9,
   "id": "0e4a4ae3-fffc-4935-a59e-b42b1f3a0ee5",
   "metadata": {
    "ExecuteTime": {
     "end_time": "2024-08-02T17:38:46.071776Z",
     "start_time": "2024-08-02T17:38:46.003298Z"
    }
   },
   "outputs": [],
   "source": [
    "# 3.4 Build Train and Test Partition\n",
    "def preprocess_twin(input_img, validation_img, label):\n",
    "    return (preprocess(input_img), preprocess(validation_img), label)\n",
    "\n",
    "data = data.map(preprocess_twin)\n",
    "data = data.cache()\n",
    "data = data.shuffle(buffer_size=1024)\n",
    "\n",
    "train_data = data.take(round(len(data) * .7))\n",
    "train_data = train_data.batch(16)\n",
    "train_data = train_data.prefetch(8)\n",
    "\n",
    "test_data = data.skip(round(len(data) * .7))\n",
    "test_data = test_data.take(round(len(data) * .3))\n",
    "test_data = test_data.batch(16)\n",
    "test_data = test_data.prefetch(8)\n"
   ]
  },
  {
   "cell_type": "code",
   "execution_count": 10,
   "id": "e2f177d5-d4d0-4f24-bc3e-4a553d232a4c",
   "metadata": {
    "ExecuteTime": {
     "end_time": "2024-08-02T17:38:46.524864Z",
     "start_time": "2024-08-02T17:38:46.162478Z"
    }
   },
   "outputs": [],
   "source": [
    "anchor = tf.data.Dataset.list_files(ANC_PATH+'\\*.jpg').take(300)\n",
    "positive = tf.data.Dataset.list_files(POS_PATH+'\\*.jpg').take(300)\n",
    "negative = tf.data.Dataset.list_files(NEG_PATH+'\\*.jpg').take(300)"
   ]
  },
  {
   "cell_type": "code",
   "execution_count": 11,
   "id": "9902f8eb-ee42-406e-af37-178a1983ac4f",
   "metadata": {
    "ExecuteTime": {
     "end_time": "2024-08-02T17:38:46.603244Z",
     "start_time": "2024-08-02T17:38:46.527092Z"
    }
   },
   "outputs": [],
   "source": [
    "# 4. Model Engineering\n",
    "\n",
    "# 4.1 Build Embedding Layer\n",
    "def make_embedding():\n",
    "    inp = Input(shape=(100, 100, 3), name='input_image')\n",
    "    c1 = Conv2D(64, (10, 10), activation='relu')(inp)\n",
    "    m1 = MaxPooling2D(64, (2, 2), padding='same')(c1)\n",
    "    c2 = Conv2D(128, (7, 7), activation='relu')(m1)\n",
    "    m2 = MaxPooling2D(64, (2, 2), padding='same')(c2)\n",
    "    c3 = Conv2D(128, (4, 4), activation='relu')(m2)\n",
    "    m3 = MaxPooling2D(64, (2, 2), padding='same')(c3)\n",
    "    c4 = Conv2D(256, (4, 4), activation='relu')(m3)\n",
    "    f1 = Flatten()(c4)\n",
    "    d1 = Dense(4096, activation='sigmoid')(f1)\n",
    "    return Model(inputs=[inp], outputs=[d1], name='embedding')\n",
    "\n",
    "embedding = make_embedding()"
   ]
  },
  {
   "cell_type": "code",
   "execution_count": 12,
   "id": "8d162bc5-bab8-4c01-b68a-9b8ee1189030",
   "metadata": {
    "ExecuteTime": {
     "end_time": "2024-08-02T17:38:46.618420Z",
     "start_time": "2024-08-02T17:38:46.606433Z"
    }
   },
   "outputs": [],
   "source": [
    "# 4.2 Build Distance Layer\n",
    "class L1Dist(Layer):\n",
    "    def __init__(self, **kwargs):\n",
    "        super().__init__()\n",
    "\n",
    "    def call(self, input_embedding, validation_embedding):\n",
    "        return tf.math.abs(input_embedding - validation_embedding)\n"
   ]
  },
  {
   "cell_type": "code",
   "execution_count": 13,
   "id": "cb1639d7-7651-4b44-b1c2-bcc28bbdf8ea",
   "metadata": {
    "ExecuteTime": {
     "end_time": "2024-08-02T17:38:46.936206Z",
     "start_time": "2024-08-02T17:38:46.837203Z"
    }
   },
   "outputs": [],
   "source": [
    "# 4.3 Make Siamese Model\n",
    "def make_siamese_model():\n",
    "    input_image = Input(name='input_img', shape=(100, 100, 3))\n",
    "    validation_image = Input(name='validation_img', shape=(100, 100, 3))\n",
    "    siamese_layer = L1Dist()\n",
    "    siamese_layer._name = 'distance'\n",
    "    distances = siamese_layer(embedding(input_image), embedding(validation_image))\n",
    "    classifier = Dense(1, activation='sigmoid')(distances)\n",
    "    return Model(inputs=[input_image, validation_image], outputs=classifier, name='SiameseNetwork')\n",
    "\n",
    "siamese_model = make_siamese_model()"
   ]
  },
  {
   "cell_type": "code",
   "execution_count": 14,
   "id": "e580e23a-ff76-4569-97f5-821c73e9ea3e",
   "metadata": {
    "ExecuteTime": {
     "end_time": "2024-08-02T17:38:46.950812Z",
     "start_time": "2024-08-02T17:38:46.942815Z"
    }
   },
   "outputs": [],
   "source": [
    "# 5. Training\n",
    "\n",
    "# 5.1 Setup Loss and Optimizer\n",
    "binary_cross_loss = tf.losses.BinaryCrossentropy()\n",
    "opt = tf.keras.optimizers.Adam(1e-4)\n"
   ]
  },
  {
   "cell_type": "code",
   "execution_count": 15,
   "id": "42e3b398-2afd-499f-89ab-8ac54d9dbf1a",
   "metadata": {
    "ExecuteTime": {
     "end_time": "2024-08-02T17:38:47.230358Z",
     "start_time": "2024-08-02T17:38:47.217242Z"
    }
   },
   "outputs": [],
   "source": [
    "# 5.2 Establish Checkpoints\n",
    "checkpoint_dir = './training_checkpoints'\n",
    "checkpoint_prefix = os.path.join(checkpoint_dir, 'ckpt')\n",
    "checkpoint = tf.train.Checkpoint(opt=opt, siamese_model=siamese_model)"
   ]
  },
  {
   "cell_type": "code",
   "execution_count": 16,
   "id": "7e3ad71f-fc30-4bb1-a685-dd9f552026fa",
   "metadata": {
    "ExecuteTime": {
     "end_time": "2024-08-02T17:38:48.053629Z",
     "start_time": "2024-08-02T17:38:48.037061Z"
    }
   },
   "outputs": [],
   "source": [
    "# 5.3 Build Train Step Function\n",
    "@tf.function\n",
    "def train_step(batch):\n",
    "    with tf.GradientTape() as tape:\n",
    "        X = batch[:2]\n",
    "        y = batch[2]\n",
    "        yhat = siamese_model(X, training=True)\n",
    "        loss = binary_cross_loss(y, yhat)\n",
    "    grad = tape.gradient(loss, siamese_model.trainable_variables)\n",
    "    opt.apply_gradients(zip(grad, siamese_model.trainable_variables))\n",
    "    return loss"
   ]
  },
  {
   "cell_type": "code",
   "execution_count": 17,
   "id": "a85e2a76-8d89-492f-8a60-a1c767395d1d",
   "metadata": {
    "ExecuteTime": {
     "end_time": "2024-08-02T17:38:48.854245Z",
     "start_time": "2024-08-02T17:38:48.834787Z"
    }
   },
   "outputs": [],
   "source": [
    "# 5.4 Build Training Loop\n",
    "def train(data, EPOCHS):\n",
    "    for epoch in range(1, EPOCHS + 1):\n",
    "        print(f'\\n Epoch {epoch}/{EPOCHS}')\n",
    "        progbar = tf.keras.utils.Progbar(len(data))\n",
    "        for idx, batch in enumerate(data):\n",
    "            train_step(batch)\n",
    "            progbar.update(idx + 1)\n",
    "        if epoch % 10 == 0:\n",
    "            checkpoint.save(file_prefix=checkpoint_prefix)"
   ]
  },
  {
   "cell_type": "code",
   "execution_count": 22,
   "id": "0b9eeb3f-2ed5-40f3-8919-314ec42fa518",
   "metadata": {
    "ExecuteTime": {
     "end_time": "2024-08-02T17:42:34.571999Z",
     "start_time": "2024-08-02T17:38:49.375394Z"
    }
   },
   "outputs": [
    {
     "name": "stdout",
     "output_type": "stream",
     "text": [
      "\n",
      " Epoch 1/50\n",
      "9/9 [==============================] - 6s 473ms/step\n",
      "\n",
      " Epoch 2/50\n",
      "9/9 [==============================] - 3s 347ms/step\n",
      "\n",
      " Epoch 3/50\n",
      "9/9 [==============================] - 3s 348ms/step\n",
      "\n",
      " Epoch 4/50\n",
      "9/9 [==============================] - 3s 359ms/step\n",
      "\n",
      " Epoch 5/50\n",
      "9/9 [==============================] - 3s 370ms/step\n",
      "\n",
      " Epoch 6/50\n",
      "9/9 [==============================] - 3s 382ms/step\n",
      "\n",
      " Epoch 7/50\n",
      "9/9 [==============================] - 3s 392ms/step\n",
      "\n",
      " Epoch 8/50\n",
      "9/9 [==============================] - 4s 401ms/step\n",
      "\n",
      " Epoch 9/50\n",
      "9/9 [==============================] - 4s 403ms/step\n",
      "\n",
      " Epoch 10/50\n",
      "9/9 [==============================] - 4s 404ms/step\n",
      "\n",
      " Epoch 11/50\n",
      "9/9 [==============================] - 3s 424ms/step\n",
      "\n",
      " Epoch 12/50\n",
      "9/9 [==============================] - 4s 405ms/step\n",
      "\n",
      " Epoch 13/50\n",
      "9/9 [==============================] - 4s 405ms/step\n",
      "\n",
      " Epoch 14/50\n",
      "9/9 [==============================] - 4s 405ms/step\n",
      "\n",
      " Epoch 15/50\n",
      "9/9 [==============================] - 4s 406ms/step\n",
      "\n",
      " Epoch 16/50\n",
      "9/9 [==============================] - 4s 404ms/step\n",
      "\n",
      " Epoch 17/50\n",
      "9/9 [==============================] - 4s 406ms/step\n",
      "\n",
      " Epoch 18/50\n",
      "9/9 [==============================] - 4s 407ms/step\n",
      "\n",
      " Epoch 19/50\n",
      "9/9 [==============================] - 4s 406ms/step\n",
      "\n",
      " Epoch 20/50\n",
      "9/9 [==============================] - 4s 407ms/step\n",
      "\n",
      " Epoch 21/50\n",
      "9/9 [==============================] - 3s 404ms/step\n",
      "\n",
      " Epoch 22/50\n",
      "9/9 [==============================] - 4s 406ms/step\n",
      "\n",
      " Epoch 23/50\n",
      "9/9 [==============================] - 4s 405ms/step\n",
      "\n",
      " Epoch 24/50\n",
      "9/9 [==============================] - 4s 404ms/step\n",
      "\n",
      " Epoch 25/50\n",
      "9/9 [==============================] - 4s 406ms/step\n",
      "\n",
      " Epoch 26/50\n",
      "9/9 [==============================] - 4s 406ms/step\n",
      "\n",
      " Epoch 27/50\n",
      "9/9 [==============================] - 4s 404ms/step\n",
      "\n",
      " Epoch 28/50\n",
      "9/9 [==============================] - 4s 409ms/step\n",
      "\n",
      " Epoch 29/50\n",
      "9/9 [==============================] - 4s 411ms/step\n",
      "\n",
      " Epoch 30/50\n",
      "9/9 [==============================] - 4s 424ms/step\n",
      "\n",
      " Epoch 31/50\n",
      "9/9 [==============================] - 3s 410ms/step\n",
      "\n",
      " Epoch 32/50\n",
      "9/9 [==============================] - 4s 418ms/step\n",
      "\n",
      " Epoch 33/50\n",
      "9/9 [==============================] - 4s 427ms/step\n",
      "\n",
      " Epoch 34/50\n",
      "9/9 [==============================] - 4s 428ms/step\n",
      "\n",
      " Epoch 35/50\n",
      "9/9 [==============================] - 4s 427ms/step\n",
      "\n",
      " Epoch 36/50\n",
      "9/9 [==============================] - 4s 428ms/step\n",
      "\n",
      " Epoch 37/50\n",
      "9/9 [==============================] - 4s 427ms/step\n",
      "\n",
      " Epoch 38/50\n",
      "9/9 [==============================] - 4s 434ms/step\n",
      "\n",
      " Epoch 39/50\n",
      "9/9 [==============================] - 4s 450ms/step\n",
      "\n",
      " Epoch 40/50\n",
      "9/9 [==============================] - 4s 455ms/step\n",
      "\n",
      " Epoch 41/50\n",
      "9/9 [==============================] - 3s 425ms/step\n",
      "\n",
      " Epoch 42/50\n",
      "9/9 [==============================] - 4s 438ms/step\n",
      "\n",
      " Epoch 43/50\n",
      "9/9 [==============================] - 4s 441ms/step\n",
      "\n",
      " Epoch 44/50\n",
      "9/9 [==============================] - 4s 441ms/step\n",
      "\n",
      " Epoch 45/50\n",
      "9/9 [==============================] - 4s 447ms/step\n",
      "\n",
      " Epoch 46/50\n",
      "9/9 [==============================] - 4s 452ms/step\n",
      "\n",
      " Epoch 47/50\n",
      "9/9 [==============================] - 4s 448ms/step\n",
      "\n",
      " Epoch 48/50\n",
      "9/9 [==============================] - 4s 451ms/step\n",
      "\n",
      " Epoch 49/50\n",
      "9/9 [==============================] - 4s 452ms/step\n",
      "\n",
      " Epoch 50/50\n",
      "9/9 [==============================] - 4s 452ms/step\n"
     ]
    }
   ],
   "source": [
    "# 5.5 Train the model\n",
    "EPOCHS = 50\n",
    "train(train_data, EPOCHS)"
   ]
  },
  {
   "cell_type": "code",
   "execution_count": 23,
   "id": "b7de4c56-82c5-4ad6-ae51-3fdeb932b8c9",
   "metadata": {
    "ExecuteTime": {
     "end_time": "2024-08-02T17:42:34.587807Z",
     "start_time": "2024-08-02T17:42:34.574288Z"
    }
   },
   "outputs": [],
   "source": [
    "# 6. Evaluate Model\n",
    "\n",
    "# 6.1 Import Metrics\n",
    "from tensorflow.keras.metrics import Precision, Recall\n"
   ]
  },
  {
   "cell_type": "code",
   "execution_count": 24,
   "id": "a8ae96d2-9875-4540-b216-d992251c01d6",
   "metadata": {
    "ExecuteTime": {
     "end_time": "2024-08-02T17:42:35.219915Z",
     "start_time": "2024-08-02T17:42:34.591332Z"
    }
   },
   "outputs": [
    {
     "name": "stdout",
     "output_type": "stream",
     "text": [
      "1/1 [==============================] - 0s 23ms/step\n"
     ]
    }
   ],
   "source": [
    "# 6.2 Make Predictions\n",
    "test_input, test_val, y_true = test_data.as_numpy_iterator().next()\n",
    "y_hat = siamese_model.predict([test_input, test_val])"
   ]
  },
  {
   "cell_type": "code",
   "execution_count": 25,
   "id": "c1ab013b-e908-4788-bd86-2bebce685f63",
   "metadata": {
    "ExecuteTime": {
     "end_time": "2024-08-02T17:42:35.251006Z",
     "start_time": "2024-08-02T17:42:35.221988Z"
    }
   },
   "outputs": [
    {
     "name": "stdout",
     "output_type": "stream",
     "text": [
      "Recall: 1.0\n",
      "Precision: 1.0\n"
     ]
    }
   ],
   "source": [
    "# 6.3 Calculate Metrics\n",
    "m = Recall()\n",
    "m.update_state(y_true, y_hat)\n",
    "print('Recall:', m.result().numpy())\n",
    "\n",
    "m = Precision()\n",
    "m.update_state(y_true, y_hat)\n",
    "print('Precision:', m.result().numpy())"
   ]
  },
  {
   "cell_type": "code",
   "execution_count": 26,
   "id": "540989f9-4f0a-45e2-b67c-57ceb7646895",
   "metadata": {
    "ExecuteTime": {
     "end_time": "2024-08-02T17:42:35.489021Z",
     "start_time": "2024-08-02T17:42:35.253008Z"
    }
   },
   "outputs": [
    {
     "data": {
      "image/png": "[encoded data removed]",
      "text/plain": [
       "<Figure size 1000x800 with 2 Axes>"
      ]
     },
     "metadata": {},
     "output_type": "display_data"
    }
   ],
   "source": [
    "# 6.4 Viz Results\n",
    "plt.figure(figsize=(10, 8))\n",
    "plt.subplot(1, 2, 1)\n",
    "plt.imshow(test_input[0])\n",
    "plt.subplot(1, 2, 2)\n",
    "plt.imshow(test_val[0])\n",
    "plt.show()\n"
   ]
  },
  {
   "cell_type": "code",
   "execution_count": 27,
   "id": "84b43c40-9234-4d0d-beca-df7dafbf5a51",
   "metadata": {
    "ExecuteTime": {
     "end_time": "2024-08-02T17:42:35.842484Z",
     "start_time": "2024-08-02T17:42:35.490967Z"
    }
   },
   "outputs": [
    {
     "name": "stdout",
     "output_type": "stream",
     "text": [
      "WARNING:tensorflow:Compiled the loaded model, but the compiled metrics have yet to be built. `model.compile_metrics` will be empty until you train or evaluate the model.\n"
     ]
    }
   ],
   "source": [
    "# 7. Save Model\n",
    "siamese_model.save('siamesemodel.h5')\n"
   ]
  },
  {
   "cell_type": "code",
   "execution_count": 28,
   "id": "aba3124c-cc68-4a49-98da-bad02dc07ea4",
   "metadata": {
    "ExecuteTime": {
     "end_time": "2024-08-02T17:42:36.405319Z",
     "start_time": "2024-08-02T17:42:35.845485Z"
    }
   },
   "outputs": [
    {
     "name": "stdout",
     "output_type": "stream",
     "text": [
      "WARNING:tensorflow:No training configuration found in the save file, so the model was *not* compiled. Compile it manually.\n"
     ]
    }
   ],
   "source": [
    "\n",
    "# Reload model\n",
    "model = tf.keras.models.load_model('siamesemodel.h5', custom_objects={'L1Dist': L1Dist, 'BinaryCrossentropy': tf.losses.BinaryCrossentropy})\n"
   ]
  },
  {
   "cell_type": "code",
   "execution_count": 29,
   "id": "7b80cd64-93d5-4758-aea4-a799d1149386",
   "metadata": {
    "ExecuteTime": {
     "end_time": "2024-08-02T17:42:36.749874Z",
     "start_time": "2024-08-02T17:42:36.407280Z"
    }
   },
   "outputs": [
    {
     "name": "stdout",
     "output_type": "stream",
     "text": [
      "1/1 [==============================] - 0s 145ms/step\n"
     ]
    },
    {
     "data": {
      "text/plain": [
       "array([[5.9275628e-08],\n",
       "       [1.0000000e+00],\n",
       "       [8.0943646e-10],\n",
       "       [2.8444449e-08],\n",
       "       [2.8706118e-08],\n",
       "       [1.7193019e-10],\n",
       "       [1.0000000e+00],\n",
       "       [6.2543570e-08],\n",
       "       [2.0822341e-07],\n",
       "       [2.0462694e-06],\n",
       "       [1.0000000e+00],\n",
       "       [9.9998152e-01],\n",
       "       [9.2973954e-05],\n",
       "       [1.0000000e+00],\n",
       "       [9.9975556e-01],\n",
       "       [1.4619003e-06]], dtype=float32)"
      ]
     },
     "execution_count": 29,
     "metadata": {},
     "output_type": "execute_result"
    }
   ],
   "source": [
    "# Make predictions with reloaded model\n",
    "model.predict([test_input, test_val])"
   ]
  },
  {
   "cell_type": "code",
   "execution_count": 30,
   "id": "348e378f-a7f3-49fc-81f2-6bf7a9ca59b7",
   "metadata": {
    "ExecuteTime": {
     "end_time": "2024-08-02T17:42:36.784643Z",
     "start_time": "2024-08-02T17:42:36.751870Z"
    }
   },
   "outputs": [
    {
     "name": "stdout",
     "output_type": "stream",
     "text": [
      "Model: \"SiameseNetwork\"\n",
      "__________________________________________________________________________________________________\n",
      " Layer (type)                   Output Shape         Param #     Connected to                     \n",
      "==================================================================================================\n",
      " input_img (InputLayer)         [(None, 100, 100, 3  0           []                               \n",
      "                                )]                                                                \n",
      "                                                                                                  \n",
      " validation_img (InputLayer)    [(None, 100, 100, 3  0           []                               \n",
      "                                )]                                                                \n",
      "                                                                                                  \n",
      " embedding (Functional)         (None, 4096)         38960448    ['input_img[0][0]',              \n",
      "                                                                  'validation_img[0][0]']         \n",
      "                                                                                                  \n",
      " l1_dist_1 (L1Dist)             (None, 4096)         0           ['embedding[0][0]',              \n",
      "                                                                  'embedding[1][0]']              \n",
      "                                                                                                  \n",
      " dense_1 (Dense)                (None, 1)            4097        ['l1_dist_1[0][0]']              \n",
      "                                                                                                  \n",
      "==================================================================================================\n",
      "Total params: 38,964,545\n",
      "Trainable params: 38,964,545\n",
      "Non-trainable params: 0\n",
      "__________________________________________________________________________________________________\n"
     ]
    }
   ],
   "source": [
    "# View model summary\n",
    "model.summary()"
   ]
  },
  {
   "cell_type": "code",
   "execution_count": 31,
   "id": "56a2fb38-d2b0-4ded-871a-4fa7f4e9d0ec",
   "metadata": {
    "ExecuteTime": {
     "end_time": "2024-08-02T17:46:42.249278Z",
     "start_time": "2024-08-02T17:46:42.182810Z"
    }
   },
   "outputs": [
    {
     "data": {
      "text/plain": [
       "['d2785db4-50f5-11ef-8e8c-fc349794977f.jpg',\n",
       " 'd55855f6-50f5-11ef-acb1-fc349794977f.jpg',\n",
       " 'e1314630-50f5-11ef-8791-fc349794977f.jpg',\n",
       " 'e186b771-50f5-11ef-9e30-fc349794977f.jpg',\n",
       " 'e19c6754-50f5-11ef-948b-fc349794977f.jpg',\n",
       " 'e1fd42ff-50f5-11ef-89dd-fc349794977f.jpg',\n",
       " 'e20bacbf-50f5-11ef-abba-fc349794977f.jpg',\n",
       " 'e22ab936-50f5-11ef-b54b-fc349794977f.jpg',\n",
       " 'e238fa15-50f5-11ef-b451-fc349794977f.jpg',\n",
       " 'e25ad8db-50f5-11ef-9367-fc349794977f.jpg',\n",
       " 'e269480f-50f5-11ef-89bd-fc349794977f.jpg',\n",
       " 'e277d228-50f5-11ef-9296-fc349794977f.jpg',\n",
       " 'e2a2896f-50f5-11ef-a9bb-fc349794977f.jpg',\n",
       " 'e317c6d4-50f5-11ef-ae15-fc349794977f.jpg',\n",
       " 'e325ef81-50f5-11ef-825c-fc349794977f.jpg',\n",
       " 'e34e4744-50f5-11ef-af98-fc349794977f.jpg',\n",
       " 'e35f134f-50f5-11ef-861a-fc349794977f.jpg',\n",
       " 'e36d8b90-50f5-11ef-bfe0-fc349794977f.jpg',\n",
       " 'e3830d6f-50f5-11ef-96a2-fc349794977f.jpg',\n",
       " 'e393c886-50f5-11ef-8563-fc349794977f.jpg',\n",
       " 'e463659d-50f5-11ef-a3f4-fc349794977f.jpg',\n",
       " 'e4b023cf-50f5-11ef-855c-fc349794977f.jpg',\n",
       " 'e4d18eb6-50f5-11ef-b498-fc349794977f.jpg',\n",
       " 'e514866a-50f5-11ef-afee-fc349794977f.jpg',\n",
       " 'e522c53a-50f5-11ef-bb1e-fc349794977f.jpg',\n",
       " 'e5551b0e-50f5-11ef-a87c-fc349794977f.jpg',\n",
       " 'e55c5b77-50f5-11ef-89c3-fc349794977f.jpg',\n",
       " 'e59c7999-50f5-11ef-aa22-fc349794977f.jpg',\n",
       " 'e601228b-50f5-11ef-aee8-fc349794977f.jpg',\n",
       " 'e60f9203-50f5-11ef-b019-fc349794977f.jpg',\n",
       " 'e61dfa47-50f5-11ef-86db-fc349794977f.jpg',\n",
       " 'e635b837-50f5-11ef-aa4b-fc349794977f.jpg',\n",
       " 'e64da0f3-50f5-11ef-beac-fc349794977f.jpg',\n",
       " 'e65bd678-50f5-11ef-a147-fc349794977f.jpg',\n",
       " 'e66ec293-50f5-11ef-855e-fc349794977f.jpg',\n",
       " 'e67d3db9-50f5-11ef-94ae-fc349794977f.jpg',\n",
       " 'e68e06dc-50f5-11ef-88ec-fc349794977f.jpg',\n",
       " 'e69519f8-50f5-11ef-8e68-fc349794977f.jpg',\n",
       " 'e6e5fd20-50f5-11ef-8ced-fc349794977f.jpg',\n",
       " 'e7180429-50f5-11ef-9bf4-fc349794977f.jpg',\n",
       " 'e72687e4-50f5-11ef-9023-fc349794977f.jpg',\n",
       " 'e74854b7-50f5-11ef-ac19-fc349794977f.jpg',\n",
       " 'e7568eec-50f5-11ef-b8f8-fc349794977f.jpg',\n",
       " 'e7a2de85-50f5-11ef-b6e7-fc349794977f.jpg',\n",
       " 'e7b108d5-50f5-11ef-b9ff-fc349794977f.jpg',\n",
       " 'e7d78e1f-50f5-11ef-9eed-fc349794977f.jpg',\n",
       " 'e85b369a-50f5-11ef-acb8-fc349794977f.jpg',\n",
       " 'e877efb3-50f5-11ef-a48c-fc349794977f.jpg',\n",
       " 'e885e6b4-50f5-11ef-b238-fc349794977f.jpg',\n",
       " 'e893db58-50f5-11ef-bf26-fc349794977f.jpg']"
      ]
     },
     "execution_count": 31,
     "metadata": {},
     "output_type": "execute_result"
    }
   ],
   "source": [
    "os.listdir(os.path.join('application_data', 'verification_images'))"
   ]
  },
  {
   "cell_type": "code",
   "execution_count": 32,
   "id": "7d0b7f51-04f3-459f-9bdb-4224d5f65263",
   "metadata": {
    "ExecuteTime": {
     "end_time": "2024-08-02T17:46:45.447375Z",
     "start_time": "2024-08-02T17:46:45.434242Z"
    }
   },
   "outputs": [
    {
     "data": {
      "text/plain": [
       "'application_data\\\\input_image\\\\input_image.jpg'"
      ]
     },
     "execution_count": 32,
     "metadata": {},
     "output_type": "execute_result"
    }
   ],
   "source": [
    "os.path.join('application_data', 'input_image', 'input_image.jpg')"
   ]
  },
  {
   "cell_type": "code",
   "execution_count": 33,
   "id": "2172ac80-8905-4fbe-b83c-efa4d46399b5",
   "metadata": {
    "ExecuteTime": {
     "end_time": "2024-08-02T17:46:49.109858Z",
     "start_time": "2024-08-02T17:46:49.083651Z"
    }
   },
   "outputs": [
    {
     "name": "stdout",
     "output_type": "stream",
     "text": [
      "application_data\\verification_images\\d2785db4-50f5-11ef-8e8c-fc349794977f.jpg\n",
      "application_data\\verification_images\\d55855f6-50f5-11ef-acb1-fc349794977f.jpg\n",
      "application_data\\verification_images\\e1314630-50f5-11ef-8791-fc349794977f.jpg\n",
      "application_data\\verification_images\\e186b771-50f5-11ef-9e30-fc349794977f.jpg\n",
      "application_data\\verification_images\\e19c6754-50f5-11ef-948b-fc349794977f.jpg\n",
      "application_data\\verification_images\\e1fd42ff-50f5-11ef-89dd-fc349794977f.jpg\n",
      "application_data\\verification_images\\e20bacbf-50f5-11ef-abba-fc349794977f.jpg\n",
      "application_data\\verification_images\\e22ab936-50f5-11ef-b54b-fc349794977f.jpg\n",
      "application_data\\verification_images\\e238fa15-50f5-11ef-b451-fc349794977f.jpg\n",
      "application_data\\verification_images\\e25ad8db-50f5-11ef-9367-fc349794977f.jpg\n",
      "application_data\\verification_images\\e269480f-50f5-11ef-89bd-fc349794977f.jpg\n",
      "application_data\\verification_images\\e277d228-50f5-11ef-9296-fc349794977f.jpg\n",
      "application_data\\verification_images\\e2a2896f-50f5-11ef-a9bb-fc349794977f.jpg\n",
      "application_data\\verification_images\\e317c6d4-50f5-11ef-ae15-fc349794977f.jpg\n",
      "application_data\\verification_images\\e325ef81-50f5-11ef-825c-fc349794977f.jpg\n",
      "application_data\\verification_images\\e34e4744-50f5-11ef-af98-fc349794977f.jpg\n",
      "application_data\\verification_images\\e35f134f-50f5-11ef-861a-fc349794977f.jpg\n",
      "application_data\\verification_images\\e36d8b90-50f5-11ef-bfe0-fc349794977f.jpg\n",
      "application_data\\verification_images\\e3830d6f-50f5-11ef-96a2-fc349794977f.jpg\n",
      "application_data\\verification_images\\e393c886-50f5-11ef-8563-fc349794977f.jpg\n",
      "application_data\\verification_images\\e463659d-50f5-11ef-a3f4-fc349794977f.jpg\n",
      "application_data\\verification_images\\e4b023cf-50f5-11ef-855c-fc349794977f.jpg\n",
      "application_data\\verification_images\\e4d18eb6-50f5-11ef-b498-fc349794977f.jpg\n",
      "application_data\\verification_images\\e514866a-50f5-11ef-afee-fc349794977f.jpg\n",
      "application_data\\verification_images\\e522c53a-50f5-11ef-bb1e-fc349794977f.jpg\n",
      "application_data\\verification_images\\e5551b0e-50f5-11ef-a87c-fc349794977f.jpg\n",
      "application_data\\verification_images\\e55c5b77-50f5-11ef-89c3-fc349794977f.jpg\n",
      "application_data\\verification_images\\e59c7999-50f5-11ef-aa22-fc349794977f.jpg\n",
      "application_data\\verification_images\\e601228b-50f5-11ef-aee8-fc349794977f.jpg\n",
      "application_data\\verification_images\\e60f9203-50f5-11ef-b019-fc349794977f.jpg\n",
      "application_data\\verification_images\\e61dfa47-50f5-11ef-86db-fc349794977f.jpg\n",
      "application_data\\verification_images\\e635b837-50f5-11ef-aa4b-fc349794977f.jpg\n",
      "application_data\\verification_images\\e64da0f3-50f5-11ef-beac-fc349794977f.jpg\n",
      "application_data\\verification_images\\e65bd678-50f5-11ef-a147-fc349794977f.jpg\n",
      "application_data\\verification_images\\e66ec293-50f5-11ef-855e-fc349794977f.jpg\n",
      "application_data\\verification_images\\e67d3db9-50f5-11ef-94ae-fc349794977f.jpg\n",
      "application_data\\verification_images\\e68e06dc-50f5-11ef-88ec-fc349794977f.jpg\n",
      "application_data\\verification_images\\e69519f8-50f5-11ef-8e68-fc349794977f.jpg\n",
      "application_data\\verification_images\\e6e5fd20-50f5-11ef-8ced-fc349794977f.jpg\n",
      "application_data\\verification_images\\e7180429-50f5-11ef-9bf4-fc349794977f.jpg\n",
      "application_data\\verification_images\\e72687e4-50f5-11ef-9023-fc349794977f.jpg\n",
      "application_data\\verification_images\\e74854b7-50f5-11ef-ac19-fc349794977f.jpg\n",
      "application_data\\verification_images\\e7568eec-50f5-11ef-b8f8-fc349794977f.jpg\n",
      "application_data\\verification_images\\e7a2de85-50f5-11ef-b6e7-fc349794977f.jpg\n",
      "application_data\\verification_images\\e7b108d5-50f5-11ef-b9ff-fc349794977f.jpg\n",
      "application_data\\verification_images\\e7d78e1f-50f5-11ef-9eed-fc349794977f.jpg\n",
      "application_data\\verification_images\\e85b369a-50f5-11ef-acb8-fc349794977f.jpg\n",
      "application_data\\verification_images\\e877efb3-50f5-11ef-a48c-fc349794977f.jpg\n",
      "application_data\\verification_images\\e885e6b4-50f5-11ef-b238-fc349794977f.jpg\n",
      "application_data\\verification_images\\e893db58-50f5-11ef-bf26-fc349794977f.jpg\n"
     ]
    }
   ],
   "source": [
    "for image in os.listdir(os.path.join('application_data', 'verification_images')):\n",
    "    validation_img = os.path.join('application_data', 'verification_images', image)\n",
    "    print(validation_img)"
   ]
  },
  {
   "cell_type": "code",
   "execution_count": 80,
   "id": "360c7de3-b938-4148-bdee-2d90d9a68a5f",
   "metadata": {
    "ExecuteTime": {
     "end_time": "2024-08-02T18:05:06.336185Z",
     "start_time": "2024-08-02T18:05:06.322319Z"
    }
   },
   "outputs": [],
   "source": [
    "def verify(model, detection_threshold, verification_threshold):\n",
    "    # Build results array\n",
    "    results = []\n",
    "    for image in os.listdir(os.path.join('application_data', 'verification_images')):\n",
    "        input_img = preprocess(os.path.join('application_data', 'input_image', 'input_image.jpg'))\n",
    "        validation_img = preprocess(os.path.join('application_data', 'verification_images', image))\n",
    "        \n",
    "        # Make Predictions \n",
    "        result = model.predict(list(np.expand_dims([input_img, validation_img], axis=1)))\n",
    "        results.append(result)\n",
    "    \n",
    "    # Detection Threshold: Metric above which a prediciton is considered positive \n",
    "    detection = np.sum(np.array(results) > detection_threshold)\n",
    "    \n",
    "    # Verification Threshold: Proportion of positive predictions / total positive samples \n",
    "    verification = detection / len(os.listdir(os.path.join('application_data', 'verification_images'))) \n",
    "    verified = verification > verification_threshold\n",
    "    \n",
    "    return results, verified"
   ]
  },
  {
   "cell_type": "code",
   "execution_count": 85,
   "id": "aa0635ee-a00a-4e04-bdbb-954de8c0782c",
   "metadata": {
    "ExecuteTime": {
     "end_time": "2024-08-02T18:07:35.236571Z",
     "start_time": "2024-08-02T18:06:11.777703Z"
    }
   },
   "outputs": [
    {
     "name": "stdout",
     "output_type": "stream",
     "text": [
      "1/1 [==============================] - 0s 25ms/step\n",
      "1/1 [==============================] - 0s 23ms/step\n",
      "1/1 [==============================] - 0s 26ms/step\n",
      "1/1 [==============================] - 0s 28ms/step\n",
      "1/1 [==============================] - 0s 30ms/step\n",
      "1/1 [==============================] - 0s 34ms/step\n",
      "1/1 [==============================] - 0s 27ms/step\n",
      "1/1 [==============================] - 0s 30ms/step\n",
      "1/1 [==============================] - 0s 27ms/step\n",
      "1/1 [==============================] - 0s 29ms/step\n",
      "1/1 [==============================] - 0s 34ms/step\n",
      "1/1 [==============================] - 0s 28ms/step\n",
      "1/1 [==============================] - 0s 34ms/step\n",
      "1/1 [==============================] - 0s 33ms/step\n",
      "1/1 [==============================] - 0s 27ms/step\n",
      "1/1 [==============================] - 0s 29ms/step\n",
      "1/1 [==============================] - 0s 36ms/step\n",
      "1/1 [==============================] - 0s 32ms/step\n",
      "1/1 [==============================] - 0s 22ms/step\n",
      "1/1 [==============================] - 0s 22ms/step\n",
      "1/1 [==============================] - 0s 23ms/step\n",
      "1/1 [==============================] - 0s 25ms/step\n",
      "1/1 [==============================] - 0s 23ms/step\n",
      "1/1 [==============================] - 0s 22ms/step\n",
      "1/1 [==============================] - 0s 20ms/step\n",
      "1/1 [==============================] - 0s 21ms/step\n",
      "1/1 [==============================] - 0s 22ms/step\n",
      "1/1 [==============================] - 0s 24ms/step\n",
      "1/1 [==============================] - 0s 34ms/step\n",
      "1/1 [==============================] - 0s 21ms/step\n",
      "1/1 [==============================] - 0s 23ms/step\n",
      "1/1 [==============================] - 0s 22ms/step\n",
      "1/1 [==============================] - 0s 22ms/step\n",
      "1/1 [==============================] - 0s 24ms/step\n",
      "1/1 [==============================] - 0s 23ms/step\n",
      "1/1 [==============================] - 0s 21ms/step\n",
      "1/1 [==============================] - 0s 22ms/step\n",
      "1/1 [==============================] - 0s 22ms/step\n",
      "1/1 [==============================] - 0s 22ms/step\n",
      "1/1 [==============================] - 0s 22ms/step\n",
      "1/1 [==============================] - 0s 23ms/step\n",
      "1/1 [==============================] - 0s 22ms/step\n",
      "1/1 [==============================] - 0s 25ms/step\n",
      "1/1 [==============================] - 0s 22ms/step\n",
      "1/1 [==============================] - 0s 20ms/step\n",
      "1/1 [==============================] - 0s 22ms/step\n",
      "1/1 [==============================] - 0s 23ms/step\n",
      "1/1 [==============================] - 0s 22ms/step\n",
      "1/1 [==============================] - 0s 23ms/step\n",
      "1/1 [==============================] - 0s 26ms/step\n",
      "False\n",
      "1/1 [==============================] - 0s 21ms/step\n",
      "1/1 [==============================] - 0s 21ms/step\n",
      "1/1 [==============================] - 0s 22ms/step\n",
      "1/1 [==============================] - 0s 20ms/step\n",
      "1/1 [==============================] - 0s 23ms/step\n",
      "1/1 [==============================] - 0s 21ms/step\n",
      "1/1 [==============================] - 0s 20ms/step\n",
      "1/1 [==============================] - 0s 21ms/step\n",
      "1/1 [==============================] - 0s 20ms/step\n",
      "1/1 [==============================] - 0s 22ms/step\n",
      "1/1 [==============================] - 0s 23ms/step\n",
      "1/1 [==============================] - 0s 22ms/step\n",
      "1/1 [==============================] - 0s 23ms/step\n",
      "1/1 [==============================] - 0s 22ms/step\n",
      "1/1 [==============================] - 0s 21ms/step\n",
      "1/1 [==============================] - 0s 25ms/step\n",
      "1/1 [==============================] - 0s 20ms/step\n",
      "1/1 [==============================] - 0s 21ms/step\n",
      "1/1 [==============================] - 0s 20ms/step\n",
      "1/1 [==============================] - 0s 23ms/step\n",
      "1/1 [==============================] - 0s 22ms/step\n",
      "1/1 [==============================] - 0s 24ms/step\n",
      "1/1 [==============================] - 0s 27ms/step\n",
      "1/1 [==============================] - 0s 23ms/step\n",
      "1/1 [==============================] - 0s 23ms/step\n",
      "1/1 [==============================] - 0s 23ms/step\n",
      "1/1 [==============================] - 0s 22ms/step\n",
      "1/1 [==============================] - 0s 21ms/step\n",
      "1/1 [==============================] - 0s 22ms/step\n",
      "1/1 [==============================] - 0s 22ms/step\n",
      "1/1 [==============================] - 0s 23ms/step\n",
      "1/1 [==============================] - 0s 23ms/step\n",
      "1/1 [==============================] - 0s 23ms/step\n",
      "1/1 [==============================] - 0s 22ms/step\n",
      "1/1 [==============================] - 0s 21ms/step\n",
      "1/1 [==============================] - 0s 23ms/step\n",
      "1/1 [==============================] - 0s 23ms/step\n",
      "1/1 [==============================] - 0s 24ms/step\n",
      "1/1 [==============================] - 0s 22ms/step\n",
      "1/1 [==============================] - 0s 22ms/step\n",
      "1/1 [==============================] - 0s 24ms/step\n",
      "1/1 [==============================] - 0s 23ms/step\n",
      "1/1 [==============================] - 0s 26ms/step\n",
      "1/1 [==============================] - 0s 24ms/step\n",
      "1/1 [==============================] - 0s 24ms/step\n",
      "1/1 [==============================] - 0s 24ms/step\n",
      "1/1 [==============================] - 0s 22ms/step\n",
      "1/1 [==============================] - 0s 21ms/step\n",
      "1/1 [==============================] - 0s 26ms/step\n",
      "1/1 [==============================] - 0s 25ms/step\n",
      "True\n",
      "1/1 [==============================] - 0s 20ms/step\n",
      "1/1 [==============================] - 0s 21ms/step\n",
      "1/1 [==============================] - 0s 20ms/step\n",
      "1/1 [==============================] - 0s 20ms/step\n",
      "1/1 [==============================] - 0s 20ms/step\n",
      "1/1 [==============================] - 0s 19ms/step\n",
      "1/1 [==============================] - 0s 21ms/step\n",
      "1/1 [==============================] - 0s 21ms/step\n",
      "1/1 [==============================] - 0s 22ms/step\n",
      "1/1 [==============================] - 0s 23ms/step\n",
      "1/1 [==============================] - 0s 23ms/step\n",
      "1/1 [==============================] - 0s 23ms/step\n",
      "1/1 [==============================] - 0s 23ms/step\n",
      "1/1 [==============================] - 0s 23ms/step\n",
      "1/1 [==============================] - 0s 20ms/step\n",
      "1/1 [==============================] - 0s 22ms/step\n",
      "1/1 [==============================] - 0s 20ms/step\n",
      "1/1 [==============================] - 0s 22ms/step\n",
      "1/1 [==============================] - 0s 26ms/step\n",
      "1/1 [==============================] - 0s 21ms/step\n",
      "1/1 [==============================] - 0s 20ms/step\n",
      "1/1 [==============================] - 0s 20ms/step\n",
      "1/1 [==============================] - 0s 21ms/step\n",
      "1/1 [==============================] - 0s 22ms/step\n",
      "1/1 [==============================] - 0s 22ms/step\n",
      "1/1 [==============================] - 0s 21ms/step\n",
      "1/1 [==============================] - 0s 22ms/step\n",
      "1/1 [==============================] - 0s 21ms/step\n",
      "1/1 [==============================] - 0s 21ms/step\n",
      "1/1 [==============================] - 0s 21ms/step\n",
      "1/1 [==============================] - 0s 26ms/step\n",
      "1/1 [==============================] - 0s 20ms/step\n",
      "1/1 [==============================] - 0s 22ms/step\n",
      "1/1 [==============================] - 0s 21ms/step\n",
      "1/1 [==============================] - 0s 21ms/step\n",
      "1/1 [==============================] - 0s 21ms/step\n",
      "1/1 [==============================] - 0s 22ms/step\n",
      "1/1 [==============================] - 0s 21ms/step\n",
      "1/1 [==============================] - 0s 21ms/step\n",
      "1/1 [==============================] - 0s 21ms/step\n",
      "1/1 [==============================] - 0s 21ms/step\n",
      "1/1 [==============================] - 0s 23ms/step\n",
      "1/1 [==============================] - 0s 20ms/step\n",
      "1/1 [==============================] - 0s 22ms/step\n",
      "1/1 [==============================] - 0s 21ms/step\n",
      "1/1 [==============================] - 0s 22ms/step\n",
      "1/1 [==============================] - 0s 21ms/step\n",
      "1/1 [==============================] - 0s 22ms/step\n",
      "1/1 [==============================] - 0s 24ms/step\n",
      "1/1 [==============================] - 0s 21ms/step\n",
      "True\n",
      "1/1 [==============================] - 0s 21ms/step\n",
      "1/1 [==============================] - 0s 22ms/step\n",
      "1/1 [==============================] - 0s 20ms/step\n",
      "1/1 [==============================] - 0s 21ms/step\n",
      "1/1 [==============================] - 0s 21ms/step\n",
      "1/1 [==============================] - 0s 21ms/step\n",
      "1/1 [==============================] - 0s 22ms/step\n",
      "1/1 [==============================] - 0s 22ms/step\n",
      "1/1 [==============================] - 0s 21ms/step\n",
      "1/1 [==============================] - 0s 21ms/step\n",
      "1/1 [==============================] - 0s 22ms/step\n",
      "1/1 [==============================] - 0s 22ms/step\n",
      "1/1 [==============================] - 0s 22ms/step\n",
      "1/1 [==============================] - 0s 23ms/step\n",
      "1/1 [==============================] - 0s 21ms/step\n",
      "1/1 [==============================] - 0s 22ms/step\n",
      "1/1 [==============================] - 0s 23ms/step\n",
      "1/1 [==============================] - 0s 22ms/step\n",
      "1/1 [==============================] - 0s 20ms/step\n",
      "1/1 [==============================] - 0s 23ms/step\n",
      "1/1 [==============================] - 0s 21ms/step\n",
      "1/1 [==============================] - 0s 21ms/step\n",
      "1/1 [==============================] - 0s 21ms/step\n",
      "1/1 [==============================] - 0s 23ms/step\n",
      "1/1 [==============================] - 0s 22ms/step\n",
      "1/1 [==============================] - 0s 21ms/step\n",
      "1/1 [==============================] - 0s 22ms/step\n",
      "1/1 [==============================] - 0s 22ms/step\n",
      "1/1 [==============================] - 0s 22ms/step\n",
      "1/1 [==============================] - 0s 21ms/step\n",
      "1/1 [==============================] - 0s 22ms/step\n",
      "1/1 [==============================] - 0s 21ms/step\n",
      "1/1 [==============================] - 0s 24ms/step\n",
      "1/1 [==============================] - 0s 25ms/step\n",
      "1/1 [==============================] - 0s 21ms/step\n",
      "1/1 [==============================] - 0s 22ms/step\n",
      "1/1 [==============================] - 0s 21ms/step\n",
      "1/1 [==============================] - 0s 22ms/step\n",
      "1/1 [==============================] - 0s 21ms/step\n",
      "1/1 [==============================] - 0s 21ms/step\n",
      "1/1 [==============================] - 0s 21ms/step\n",
      "1/1 [==============================] - 0s 22ms/step\n",
      "1/1 [==============================] - 0s 21ms/step\n",
      "1/1 [==============================] - 0s 22ms/step\n",
      "1/1 [==============================] - 0s 21ms/step\n",
      "1/1 [==============================] - 0s 20ms/step\n",
      "1/1 [==============================] - 0s 23ms/step\n",
      "1/1 [==============================] - 0s 21ms/step\n",
      "1/1 [==============================] - 0s 22ms/step\n",
      "1/1 [==============================] - 0s 21ms/step\n",
      "True\n",
      "1/1 [==============================] - 0s 19ms/step\n",
      "1/1 [==============================] - 0s 21ms/step\n",
      "1/1 [==============================] - 0s 21ms/step\n",
      "1/1 [==============================] - 0s 21ms/step\n",
      "1/1 [==============================] - 0s 20ms/step\n",
      "1/1 [==============================] - 0s 22ms/step\n",
      "1/1 [==============================] - 0s 22ms/step\n",
      "1/1 [==============================] - 0s 21ms/step\n",
      "1/1 [==============================] - 0s 22ms/step\n",
      "1/1 [==============================] - 0s 21ms/step\n",
      "1/1 [==============================] - 0s 25ms/step\n",
      "1/1 [==============================] - 0s 21ms/step\n",
      "1/1 [==============================] - 0s 21ms/step\n",
      "1/1 [==============================] - 0s 22ms/step\n",
      "1/1 [==============================] - 0s 21ms/step\n",
      "1/1 [==============================] - 0s 23ms/step\n",
      "1/1 [==============================] - 0s 23ms/step\n",
      "1/1 [==============================] - 0s 21ms/step\n",
      "1/1 [==============================] - 0s 24ms/step\n",
      "1/1 [==============================] - 0s 25ms/step\n",
      "1/1 [==============================] - 0s 24ms/step\n",
      "1/1 [==============================] - 0s 22ms/step\n",
      "1/1 [==============================] - 0s 22ms/step\n",
      "1/1 [==============================] - 0s 21ms/step\n",
      "1/1 [==============================] - 0s 21ms/step\n",
      "1/1 [==============================] - 0s 22ms/step\n",
      "1/1 [==============================] - 0s 23ms/step\n",
      "1/1 [==============================] - 0s 21ms/step\n",
      "1/1 [==============================] - 0s 21ms/step\n",
      "1/1 [==============================] - 0s 22ms/step\n",
      "1/1 [==============================] - 0s 22ms/step\n",
      "1/1 [==============================] - 0s 21ms/step\n",
      "1/1 [==============================] - 0s 21ms/step\n",
      "1/1 [==============================] - 0s 21ms/step\n",
      "1/1 [==============================] - 0s 22ms/step\n",
      "1/1 [==============================] - 0s 22ms/step\n",
      "1/1 [==============================] - 0s 22ms/step\n",
      "1/1 [==============================] - 0s 20ms/step\n",
      "1/1 [==============================] - 0s 23ms/step\n",
      "1/1 [==============================] - 0s 22ms/step\n",
      "1/1 [==============================] - 0s 25ms/step\n",
      "1/1 [==============================] - 0s 23ms/step\n",
      "1/1 [==============================] - 0s 24ms/step\n",
      "1/1 [==============================] - 0s 23ms/step\n",
      "1/1 [==============================] - 0s 21ms/step\n",
      "1/1 [==============================] - 0s 24ms/step\n",
      "1/1 [==============================] - 0s 23ms/step\n",
      "1/1 [==============================] - 0s 22ms/step\n",
      "1/1 [==============================] - 0s 21ms/step\n",
      "1/1 [==============================] - 0s 19ms/step\n",
      "True\n",
      "1/1 [==============================] - 0s 22ms/step\n",
      "1/1 [==============================] - 0s 23ms/step\n",
      "1/1 [==============================] - 0s 20ms/step\n",
      "1/1 [==============================] - 0s 21ms/step\n",
      "1/1 [==============================] - 0s 22ms/step\n",
      "1/1 [==============================] - 0s 21ms/step\n",
      "1/1 [==============================] - 0s 24ms/step\n",
      "1/1 [==============================] - 0s 22ms/step\n",
      "1/1 [==============================] - 0s 29ms/step\n",
      "1/1 [==============================] - 0s 25ms/step\n",
      "1/1 [==============================] - 0s 23ms/step\n",
      "1/1 [==============================] - 0s 23ms/step\n",
      "1/1 [==============================] - 0s 23ms/step\n",
      "1/1 [==============================] - 0s 24ms/step\n",
      "1/1 [==============================] - 0s 21ms/step\n",
      "1/1 [==============================] - 0s 21ms/step\n",
      "1/1 [==============================] - 0s 21ms/step\n",
      "1/1 [==============================] - 0s 21ms/step\n",
      "1/1 [==============================] - 0s 22ms/step\n",
      "1/1 [==============================] - 0s 22ms/step\n",
      "1/1 [==============================] - 0s 23ms/step\n",
      "1/1 [==============================] - 0s 25ms/step\n",
      "1/1 [==============================] - 0s 22ms/step\n",
      "1/1 [==============================] - 0s 23ms/step\n",
      "1/1 [==============================] - 0s 21ms/step\n",
      "1/1 [==============================] - 0s 23ms/step\n",
      "1/1 [==============================] - 0s 23ms/step\n",
      "1/1 [==============================] - 0s 22ms/step\n",
      "1/1 [==============================] - 0s 22ms/step\n",
      "1/1 [==============================] - 0s 22ms/step\n",
      "1/1 [==============================] - 0s 21ms/step\n",
      "1/1 [==============================] - 0s 22ms/step\n",
      "1/1 [==============================] - 0s 22ms/step\n",
      "1/1 [==============================] - 0s 22ms/step\n",
      "1/1 [==============================] - 0s 21ms/step\n",
      "1/1 [==============================] - 0s 22ms/step\n",
      "1/1 [==============================] - 0s 23ms/step\n",
      "1/1 [==============================] - 0s 22ms/step\n",
      "1/1 [==============================] - 0s 23ms/step\n",
      "1/1 [==============================] - 0s 21ms/step\n",
      "1/1 [==============================] - 0s 22ms/step\n",
      "1/1 [==============================] - 0s 23ms/step\n",
      "1/1 [==============================] - 0s 22ms/step\n",
      "1/1 [==============================] - 0s 22ms/step\n",
      "1/1 [==============================] - 0s 21ms/step\n",
      "1/1 [==============================] - 0s 23ms/step\n",
      "1/1 [==============================] - 0s 21ms/step\n",
      "1/1 [==============================] - 0s 21ms/step\n",
      "1/1 [==============================] - 0s 22ms/step\n",
      "1/1 [==============================] - 0s 23ms/step\n",
      "True\n"
     ]
    }
   ],
   "source": [
    "cap = cv2.VideoCapture(1)\n",
    "while cap.isOpened():\n",
    "    ret, frame = cap.read()\n",
    "    frame = frame[120:120+250,200:200+250, :]\n",
    "    \n",
    "    cv2.imshow('Verification', frame)\n",
    "    \n",
    "    # Verification trigger\n",
    "    if cv2.waitKey(10) & 0xFF == ord('v'):\n",
    "        # Save input image to application_data/input_image folder \n",
    "        cv2.imwrite(os.path.join('application_data', 'input_image', 'input_image.jpg'), frame)\n",
    "        # Run verification\n",
    "        results, verified = verify(model, 0.5, 0.5)\n",
    "        print(verified)\n",
    "    \n",
    "    if cv2.waitKey(10) & 0xFF == ord('q'):\n",
    "        break\n",
    "cap.release()\n",
    "cv2.destroyAllWindows()"
   ]
  },
  {
   "cell_type": "code",
   "execution_count": 87,
   "id": "fa63c038-61c4-462b-afb3-d7435900ec06",
   "metadata": {
    "ExecuteTime": {
     "end_time": "2024-08-02T18:09:18.117265Z",
     "start_time": "2024-08-02T18:09:18.077528Z"
    }
   },
   "outputs": [
    {
     "data": {
      "text/plain": "array([False, False,  True,  True,  True,  True,  True,  True,  True,\n        True,  True,  True,  True,  True,  True,  True,  True,  True,\n        True, False, False,  True,  True,  True,  True,  True,  True,\n        True,  True,  True,  True,  True,  True,  True,  True,  True,\n        True,  True,  True,  True,  True,  True,  True,  True,  True,\n        True,  True,  True,  True,  True])"
     },
     "execution_count": 87,
     "metadata": {},
     "output_type": "execute_result"
    }
   ],
   "source": [
    "np.squeeze(results)>0.5"
   ]
  },
  {
   "cell_type": "code",
   "execution_count": 88,
   "id": "78fe6e83-fc89-44f8-8e4d-3b52b0d66e03",
   "metadata": {
    "ExecuteTime": {
     "end_time": "2024-08-02T18:09:21.308922Z",
     "start_time": "2024-08-02T18:09:21.275301Z"
    }
   },
   "outputs": [
    {
     "data": {
      "text/plain": "46"
     },
     "execution_count": 88,
     "metadata": {},
     "output_type": "execute_result"
    }
   ],
   "source": [
    "np.sum(np.squeeze(results)>0.5)"
   ]
  },
  {
   "cell_type": "code",
   "outputs": [],
   "source": [],
   "metadata": {
    "collapsed": false
   },
   "id": "fb3caa3f12233eea"
  }
 ],
 "metadata": {
  "kernelspec": {
   "display_name": "Python 3 (ipykernel)",
   "language": "python",
   "name": "python3"
  },
  "language_info": {
   "codemirror_mode": {
    "name": "ipython",
    "version": 3
   },
   "file_extension": ".py",
   "mimetype": "text/x-python",
   "name": "python",
   "nbconvert_exporter": "python",
   "pygments_lexer": "ipython3",
   "version": "3.9.15"
  }
 },
 "nbformat": 4,
 "nbformat_minor": 5
}
