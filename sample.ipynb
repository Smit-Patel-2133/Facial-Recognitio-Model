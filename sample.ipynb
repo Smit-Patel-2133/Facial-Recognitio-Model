{
 "cells": [
  {
   "cell_type": "markdown",
   "source": [
    "## import dependency"
   ],
   "metadata": {
    "collapsed": false
   },
   "id": "89026e467441dafe"
  },
  {
   "cell_type": "code",
   "execution_count": 1,
   "id": "initial_id",
   "metadata": {
    "collapsed": true,
    "ExecuteTime": {
     "end_time": "2024-06-30T07:50:22.444105Z",
     "start_time": "2024-06-30T07:50:20.102143Z"
    }
   },
   "outputs": [],
   "source": [
    "import numpy as np\n",
    "import matplotlib.pyplot as plt\n",
    "import cv2\n",
    "import os\n",
    "import random"
   ]
  },
  {
   "cell_type": "code",
   "outputs": [],
   "source": [
    "from tensorflow.keras.models import Model\n",
    "from tensorflow.keras.layers import Layer , Input, Dense,MaxPooling2D, Flatten,Conv2D\n",
    "import tensorflow as tf"
   ],
   "metadata": {
    "collapsed": false,
    "ExecuteTime": {
     "end_time": "2024-06-30T07:50:34.631356Z",
     "start_time": "2024-06-30T07:50:22.451210Z"
    }
   },
   "id": "c92d4900017f27de",
   "execution_count": 2
  },
  {
   "cell_type": "code",
   "outputs": [],
   "source": [
    "gpus = tf.config.experimental.list_physical_devices('GPU')\n",
    "for gpu in gpus:\n",
    "    tf.config.experimental.set_memory_growth(gpu,True)    "
   ],
   "metadata": {
    "collapsed": false,
    "ExecuteTime": {
     "end_time": "2024-06-30T07:50:34.710333Z",
     "start_time": "2024-06-30T07:50:34.637479Z"
    }
   },
   "id": "90340cd8f2bfe9ea",
   "execution_count": 3
  },
  {
   "cell_type": "code",
   "outputs": [],
   "source": [],
   "metadata": {
    "collapsed": false,
    "ExecuteTime": {
     "end_time": "2024-06-30T07:50:34.746110Z",
     "start_time": "2024-06-30T07:50:34.720895Z"
    }
   },
   "id": "409948561b2faf01",
   "execution_count": 3
  }
 ],
 "metadata": {
  "kernelspec": {
   "display_name": "Python 3",
   "language": "python",
   "name": "python3"
  },
  "language_info": {
   "codemirror_mode": {
    "name": "ipython",
    "version": 2
   },
   "file_extension": ".py",
   "mimetype": "text/x-python",
   "name": "python",
   "nbconvert_exporter": "python",
   "pygments_lexer": "ipython2",
   "version": "2.7.6"
  }
 },
 "nbformat": 4,
 "nbformat_minor": 5
}
