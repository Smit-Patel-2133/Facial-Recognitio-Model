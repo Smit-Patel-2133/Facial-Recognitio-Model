{
 "cells": [
  {
   "cell_type": "markdown",
   "id": "89026e467441dafe",
   "metadata": {
    "collapsed": false
   },
   "source": [
    "## import dependency"
   ]
  },
  {
   "cell_type": "code",
   "execution_count": 3,
   "id": "initial_id",
   "metadata": {
    "ExecuteTime": {
     "end_time": "2024-07-04T16:51:24.011302Z",
     "start_time": "2024-07-04T16:51:22.778917Z"
    },
    "collapsed": false
   },
   "outputs": [],
   "source": [
    "import numpy as np\n",
    "import matplotlib.pyplot as plt\n",
    "import cv2\n",
    "import os\n",
    "import random"
   ]
  },
  {
   "cell_type": "code",
   "execution_count": 4,
   "id": "c92d4900017f27de",
   "metadata": {
    "collapsed": false,
    "ExecuteTime": {
     "end_time": "2024-07-04T17:35:18.904392Z",
     "start_time": "2024-07-04T17:35:18.893293Z"
    }
   },
   "outputs": [],
   "source": [
    "from tensorflow.keras.models import Model\n",
    "from tensorflow.keras.layers import Layer , Input, Dense,MaxPooling2D, Flatten,Conv2D\n",
    "import tensorflow as tf"
   ]
  },
  {
   "cell_type": "code",
   "execution_count": 5,
   "id": "90340cd8f2bfe9ea",
   "metadata": {
    "ExecuteTime": {
     "end_time": "2024-07-04T16:51:31.734733Z",
     "start_time": "2024-07-04T16:51:31.675275Z"
    },
    "collapsed": false
   },
   "outputs": [],
   "source": [
    "gpus = tf.config.experimental.list_physical_devices('GPU')\n",
    "for gpu in gpus:\n",
    "    tf.config.experimental.set_memory_growth(gpu,True)    \n",
    "    "
   ]
  },
  {
   "cell_type": "code",
   "execution_count": 6,
   "id": "8b475bc4b22d8329",
   "metadata": {
    "ExecuteTime": {
     "end_time": "2024-07-04T16:51:31.750693Z",
     "start_time": "2024-07-04T16:51:31.737694Z"
    },
    "collapsed": false
   },
   "outputs": [],
   "source": [
    "POS_PATH=os.path.join('data','positive')\n",
    "NEG_PATH=os.path.join('data','negative')\n",
    "ANC_PATH=os.path.join('data','anchor')"
   ]
  },
  {
   "cell_type": "markdown",
   "id": "5ca9d7f57ca0cbdb",
   "metadata": {
    "collapsed": false
   },
   "source": [
    "## collecting negative data"
   ]
  },
  {
   "cell_type": "code",
   "execution_count": null,
   "id": "9933a3cfb18c837a",
   "metadata": {
    "collapsed": false,
    "is_executing": true
   },
   "outputs": [],
   "source": [
    "import os\n",
    "\n",
    "# Define the path to the directory where you want to move the files\n",
    "NEG_PATH = 'data/negative'\n",
    "\n",
    "# Ensure the NEG_PATH directory exists\n",
    "if not os.path.exists(NEG_PATH):\n",
    "    os.makedirs(NEG_PATH)\n",
    "\n",
    "# Iterate over the directories and files in the 'lfw' directory\n",
    "for directory in os.listdir('lfw'):\n",
    "    dir_path = os.path.join('lfw', directory)\n",
    "    if os.path.isdir(dir_path):  # Check if it is indeed a directory\n",
    "        for file in os.listdir(dir_path):\n",
    "            EX_PATH = os.path.join(dir_path, file)\n",
    "            NEW_PATH = os.path.join(NEG_PATH, file)\n",
    "\n",
    "            # Print paths to debug\n",
    "            print(f'Moving {EX_PATH} to {NEW_PATH}')\n",
    "\n",
    "            os.replace(EX_PATH, NEW_PATH)\n"
   ]
  },
  {
   "cell_type": "markdown",
   "id": "e266286571cd1fd1",
   "metadata": {
    "collapsed": false
   },
   "source": [
    "## collecting positive and anchore data"
   ]
  },
  {
   "cell_type": "code",
   "execution_count": 8,
   "id": "f97033078ef17be7",
   "metadata": {
    "ExecuteTime": {
     "end_time": "2024-07-04T16:51:32.632672Z",
     "start_time": "2024-07-04T16:51:32.619073Z"
    },
    "collapsed": false
   },
   "outputs": [],
   "source": [
    "import uuid"
   ]
  },
  {
   "cell_type": "code",
   "execution_count": null,
   "id": "d55f5dbcfa732135",
   "metadata": {
    "ExecuteTime": {
     "end_time": "2024-07-04T16:51:53.792585Z",
     "start_time": "2024-07-04T16:51:32.635672Z"
    },
    "collapsed": false
   },
   "outputs": [
    {
     "name": "stdout",
     "output_type": "stream",
     "text": [
      "Video device opened successfully.\n"
     ]
    }
   ],
   "source": [
    "import cv2\n",
    "\n",
    "# Initialize the video capture object with the correct device index\n",
    "cap = cv2.VideoCapture(0)  # Try different indices if necessary (0, 1, 2, etc.)\n",
    "\n",
    "if not cap.isOpened():\n",
    "    print(\"Error: Could not open video device.\")\n",
    "else:\n",
    "    print(\"Video device opened successfully.\")\n",
    "    while cap.isOpened():\n",
    "        ret, frame = cap.read()\n",
    "        frame=frame[120:120+250,200:200+250,:]\n",
    "        ## collecting anchore\n",
    "        if cv2.waitKey(1) & 0xFF == ord('a'):\n",
    "            imgname=os.path.join(ANC_PATH, '{}.jpg'.format(uuid.uuid1()))\n",
    "            cv2.imwrite(imgname,frame)\n",
    "        ## collecting positive\n",
    "        if cv2.waitKey(1) & 0xFF == ord('p'):\n",
    "            imgname=os.path.join(POS_PATH, '{}.jpg'.format(uuid.uuid1()))\n",
    "            cv2.imwrite(imgname,frame)\n",
    "        if not ret:\n",
    "            print(\"Error: Failed to capture image.\")\n",
    "            break\n",
    "        # Check if the frame is empty\n",
    "        if frame is None or frame.size == 0:\n",
    "            continue\n",
    "        cv2.imshow('Image Collection', frame)\n",
    "        # Break the loop on 'q' key press\n",
    "        if cv2.waitKey(1) & 0xFF == ord('q'):\n",
    "            break\n",
    "\n",
    "    # Release the webcam and close all OpenCV windows\n",
    "    cap.release()\n",
    "    cv2.destroyAllWindows()\n"
   ]
  },
  {
   "cell_type": "code",
   "execution_count": null,
   "id": "de92509f634e549f",
   "metadata": {
    "ExecuteTime": {
     "end_time": "2024-07-04T16:51:54.206412Z",
     "start_time": "2024-07-04T16:51:53.793719Z"
    },
    "collapsed": false
   },
   "outputs": [],
   "source": [
    "plt.imshow(frame[:,:,:])"
   ]
  },
  {
   "cell_type": "code",
   "execution_count": null,
   "id": "bfe2e93e73182ad1",
   "metadata": {
    "ExecuteTime": {
     "end_time": "2024-07-04T16:51:54.530300Z",
     "start_time": "2024-07-04T16:51:54.208598Z"
    },
    "collapsed": false
   },
   "outputs": [],
   "source": [
    "anchor = tf.data.Dataset.list_files(ANC_PATH+'\\*.jpg').take(300)\n",
    "positive = tf.data.Dataset.list_files(POS_PATH+'\\*.jpg').take(300)\n",
    "negative = tf.data.Dataset.list_files(NEG_PATH+'\\*.jpg').take(300)"
   ]
  },
  {
   "cell_type": "code",
   "execution_count": null,
   "id": "cc2a96a460c76b5f",
   "metadata": {
    "ExecuteTime": {
     "end_time": "2024-07-04T16:51:54.562094Z",
     "start_time": "2024-07-04T16:51:54.533405Z"
    },
    "collapsed": false
   },
   "outputs": [],
   "source": [
    "dir_test = anchor.as_numpy_iterator()"
   ]
  },
  {
   "cell_type": "code",
   "execution_count": null,
   "id": "da19b1746f1cd0",
   "metadata": {
    "ExecuteTime": {
     "end_time": "2024-07-04T16:51:54.577700Z",
     "start_time": "2024-07-04T16:51:54.564229Z"
    },
    "collapsed": false
   },
   "outputs": [],
   "source": [
    "print(dir_test.next())"
   ]
  },
  {
   "cell_type": "code",
   "execution_count": null,
   "id": "fdf778e3fe95eb12",
   "metadata": {
    "ExecuteTime": {
     "end_time": "2024-07-04T16:51:54.593253Z",
     "start_time": "2024-07-04T16:51:54.580384Z"
    },
    "collapsed": false
   },
   "outputs": [],
   "source": [
    "def preprocess(file_path):\n",
    "\n",
    "    # Read in image from file path\n",
    "    byte_img = tf.io.read_file(file_path)\n",
    "    # Load in the image \n",
    "    img = tf.io.decode_jpeg(byte_img)\n",
    "\n",
    "    # Preprocessing steps - resizing the image to be 100x100x3\n",
    "    img = tf.image.resize(img, (100,100))\n",
    "    # Scale image to be between 0 and 1 \n",
    "    img = img / 255.0\n",
    "\n",
    "    # Return image\n",
    "    return img"
   ]
  },
  {
   "cell_type": "code",
   "execution_count": null,
   "id": "83086e877bd5f4b5",
   "metadata": {
    "ExecuteTime": {
     "end_time": "2024-07-04T16:51:54.624423Z",
     "start_time": "2024-07-04T16:51:54.596472Z"
    },
    "collapsed": false
   },
   "outputs": [],
   "source": [
    "img = preprocess('data\\\\anchor\\\\ac0a02c6-37bb-11ef-8c9a-fc349794977f.jpg')"
   ]
  },
  {
   "cell_type": "code",
   "execution_count": null,
   "id": "f192dce2fe1b40e0",
   "metadata": {
    "ExecuteTime": {
     "end_time": "2024-07-04T16:51:54.639818Z",
     "start_time": "2024-07-04T16:51:54.630053Z"
    },
    "collapsed": false
   },
   "outputs": [],
   "source": [
    "img.numpy().max()"
   ]
  },
  {
   "cell_type": "code",
   "execution_count": null,
   "id": "6c6ef2f904c6e9a4",
   "metadata": {
    "ExecuteTime": {
     "end_time": "2024-07-04T16:51:54.885152Z",
     "start_time": "2024-07-04T16:51:54.641945Z"
    },
    "collapsed": false
   },
   "outputs": [],
   "source": [
    "plt.imshow(img)"
   ]
  },
  {
   "cell_type": "code",
   "execution_count": null,
   "id": "b164404d71b8c2a1",
   "metadata": {
    "ExecuteTime": {
     "end_time": "2024-07-04T16:51:54.901099Z",
     "start_time": "2024-07-04T16:51:54.888336Z"
    },
    "collapsed": false
   },
   "outputs": [],
   "source": [
    "# (anchore , positive ) => 1,1,1,1,1\n",
    "# (anchore , negative )=> 0,0,0,0,0"
   ]
  },
  {
   "cell_type": "code",
   "execution_count": null,
   "id": "e280441c03780e32",
   "metadata": {
    "ExecuteTime": {
     "end_time": "2024-07-04T16:51:54.932084Z",
     "start_time": "2024-07-04T16:51:54.903252Z"
    },
    "collapsed": false
   },
   "outputs": [],
   "source": [
    "positives = tf.data.Dataset.zip((anchor, positive, tf.data.Dataset.from_tensor_slices(tf.ones(len(anchor)))))\n",
    "negatives = tf.data.Dataset.zip((anchor, negative, tf.data.Dataset.from_tensor_slices(tf.zeros(len(anchor)))))\n",
    "data = positives.concatenate(negatives)"
   ]
  },
  {
   "cell_type": "code",
   "execution_count": null,
   "id": "2c5a933ef2ef0aa0",
   "metadata": {
    "ExecuteTime": {
     "end_time": "2024-07-04T16:51:54.948Z",
     "start_time": "2024-07-04T16:51:54.935267Z"
    },
    "collapsed": false
   },
   "outputs": [],
   "source": [
    "data"
   ]
  },
  {
   "cell_type": "code",
   "execution_count": null,
   "id": "84d4022c48473b4f",
   "metadata": {
    "ExecuteTime": {
     "end_time": "2024-07-04T16:51:54.978602Z",
     "start_time": "2024-07-04T16:51:54.950100Z"
    },
    "collapsed": false
   },
   "outputs": [],
   "source": [
    "samples = data.as_numpy_iterator()\n",
    "exampple = samples.next()"
   ]
  },
  {
   "cell_type": "code",
   "execution_count": null,
   "id": "b5c032b66b1d80c7",
   "metadata": {
    "ExecuteTime": {
     "end_time": "2024-07-04T16:51:54.994320Z",
     "start_time": "2024-07-04T16:51:54.981295Z"
    },
    "collapsed": false
   },
   "outputs": [],
   "source": [
    "exampple"
   ]
  },
  {
   "cell_type": "code",
   "execution_count": null,
   "id": "5b69e2568e440acc",
   "metadata": {
    "ExecuteTime": {
     "end_time": "2024-07-04T16:51:55.010335Z",
     "start_time": "2024-07-04T16:51:54.996439Z"
    },
    "collapsed": false
   },
   "outputs": [],
   "source": [
    "def preprocess_twin(input_img, validation_img, label):\n",
    "    return(preprocess(input_img), preprocess(validation_img), label)"
   ]
  },
  {
   "cell_type": "code",
   "execution_count": null,
   "id": "b438ed9905e2230f",
   "metadata": {
    "ExecuteTime": {
     "end_time": "2024-07-04T16:51:55.025572Z",
     "start_time": "2024-07-04T16:51:55.012479Z"
    },
    "collapsed": false
   },
   "outputs": [],
   "source": [
    "res = preprocess_twin(*exampple)\n"
   ]
  },
  {
   "cell_type": "code",
   "execution_count": null,
   "id": "7da4acc1a0b28f29",
   "metadata": {
    "ExecuteTime": {
     "end_time": "2024-07-04T16:51:55.262009Z",
     "start_time": "2024-07-04T16:51:55.027705Z"
    },
    "collapsed": false
   },
   "outputs": [],
   "source": [
    "plt.imshow(res[1])"
   ]
  },
  {
   "cell_type": "code",
   "execution_count": null,
   "id": "2a4a10db94fd3142",
   "metadata": {
    "ExecuteTime": {
     "end_time": "2024-07-04T16:51:55.277878Z",
     "start_time": "2024-07-04T16:51:55.264230Z"
    },
    "collapsed": false
   },
   "outputs": [],
   "source": [
    "res[2]"
   ]
  },
  {
   "cell_type": "markdown",
   "id": "f8e84247d813e4ef",
   "metadata": {
    "collapsed": false
   },
   "source": [
    "## Build dataloader pipline"
   ]
  },
  {
   "cell_type": "code",
   "execution_count": null,
   "id": "299a6473b61ae4e2",
   "metadata": {
    "ExecuteTime": {
     "end_time": "2024-07-04T16:51:55.419119Z",
     "start_time": "2024-07-04T16:51:55.280481Z"
    },
    "collapsed": false
   },
   "outputs": [],
   "source": [
    "# Build dataloader pipeline\n",
    "data = data.map(preprocess_twin)"
   ]
  },
  {
   "cell_type": "code",
   "execution_count": null,
   "id": "c5898c15284131",
   "metadata": {
    "ExecuteTime": {
     "end_time": "2024-07-04T16:51:55.435046Z",
     "start_time": "2024-07-04T16:51:55.421268Z"
    },
    "collapsed": false
   },
   "outputs": [],
   "source": [
    "data = data.cache()\n",
    "data = data.shuffle(buffer_size=1024)"
   ]
  },
  {
   "cell_type": "code",
   "execution_count": null,
   "id": "5925f171131c03ab",
   "metadata": {
    "ExecuteTime": {
     "end_time": "2024-07-04T16:51:55.450543Z",
     "start_time": "2024-07-04T16:51:55.438780Z"
    },
    "collapsed": false
   },
   "outputs": [],
   "source": [
    "data"
   ]
  },
  {
   "cell_type": "code",
   "execution_count": null,
   "id": "a4d821f2746c8866",
   "metadata": {
    "ExecuteTime": {
     "end_time": "2024-07-04T16:51:55.493971Z",
     "start_time": "2024-07-04T16:51:55.453824Z"
    },
    "collapsed": false
   },
   "outputs": [],
   "source": [
    "samples=data.as_numpy_iterator()"
   ]
  },
  {
   "cell_type": "code",
   "execution_count": null,
   "id": "96966651236e47e2",
   "metadata": {
    "ExecuteTime": {
     "end_time": "2024-07-04T16:51:56.791801Z",
     "start_time": "2024-07-04T16:51:55.497475Z"
    },
    "collapsed": false
   },
   "outputs": [],
   "source": [
    "len(samples.next())"
   ]
  },
  {
   "cell_type": "code",
   "execution_count": null,
   "id": "43c2e1380ec03bf1",
   "metadata": {
    "ExecuteTime": {
     "end_time": "2024-07-04T16:51:56.807143Z",
     "start_time": "2024-07-04T16:51:56.794797Z"
    },
    "collapsed": false
   },
   "outputs": [],
   "source": [
    "samp=samples.next()"
   ]
  },
  {
   "cell_type": "code",
   "execution_count": null,
   "id": "a1d0cea89102bd1a",
   "metadata": {
    "ExecuteTime": {
     "end_time": "2024-07-04T16:51:57.105760Z",
     "start_time": "2024-07-04T16:51:56.810438Z"
    },
    "collapsed": false
   },
   "outputs": [],
   "source": [
    "plt.imshow(samp[1])"
   ]
  },
  {
   "cell_type": "code",
   "execution_count": null,
   "id": "6ee89d60b2ac690c",
   "metadata": {
    "ExecuteTime": {
     "end_time": "2024-07-04T16:51:57.340043Z",
     "start_time": "2024-07-04T16:51:57.108962Z"
    },
    "collapsed": false
   },
   "outputs": [],
   "source": [
    "plt.imshow(samp[0])"
   ]
  },
  {
   "cell_type": "code",
   "execution_count": null,
   "id": "6dfc794b21625a3a",
   "metadata": {
    "ExecuteTime": {
     "end_time": "2024-07-04T16:51:57.355074Z",
     "start_time": "2024-07-04T16:51:57.343217Z"
    },
    "collapsed": false
   },
   "outputs": [],
   "source": [
    "samp[2]"
   ]
  },
  {
   "cell_type": "code",
   "execution_count": null,
   "id": "1e7a51d9978b4c11",
   "metadata": {
    "ExecuteTime": {
     "end_time": "2024-07-04T16:51:57.385898Z",
     "start_time": "2024-07-04T16:51:57.357752Z"
    },
    "collapsed": false
   },
   "outputs": [],
   "source": [
    "# Training partition\n",
    "train_data = data.take(round(len(data)*.7))\n",
    "train_data = train_data.batch(16)\n",
    "train_data = train_data.prefetch(8)"
   ]
  },
  {
   "cell_type": "code",
   "execution_count": null,
   "id": "3e3df1789efb5f6",
   "metadata": {
    "ExecuteTime": {
     "end_time": "2024-07-04T16:51:57.401043Z",
     "start_time": "2024-07-04T16:51:57.388032Z"
    },
    "collapsed": false
   },
   "outputs": [],
   "source": [
    "# Testing partition\n",
    "test_data = data.skip(round(len(data)*.7))\n",
    "test_data = test_data.take(round(len(data)*.3))\n",
    "test_data = test_data.batch(16)\n",
    "test_data = test_data.prefetch(8)"
   ]
  },
  {
   "cell_type": "markdown",
   "id": "4d3bd70889fa0b7c",
   "metadata": {
    "collapsed": false
   },
   "source": [
    "# model engineering"
   ]
  },
  {
   "cell_type": "code",
   "execution_count": null,
   "id": "af1a13f36fb03693",
   "metadata": {
    "ExecuteTime": {
     "end_time": "2024-07-04T16:51:57.417016Z",
     "start_time": "2024-07-04T16:51:57.404151Z"
    },
    "collapsed": false
   },
   "outputs": [],
   "source": [
    "# inp=Input(shape=(100,100,3),name='input_image')\n",
    "# #first block\n",
    "# c1=Conv2D(64,(10,10),activation='relu')(inp)\n",
    "# m1=MaxPooling2D(64,(2,2),padding='same')(c1)\n",
    "# # second block\n",
    "# c2=Conv2D(128,(7,7),activation='relu')(m1)\n",
    "# m2=MaxPooling2D(64,(2,2),padding='same')(c2)\n",
    "# # third Block\n",
    "# c3=Conv2D(128,(4,4),activation='relu')(m2)\n",
    "# m3=MaxPooling2D(64,(2,2),padding='same')(c3)\n",
    "# # final block\n",
    "# c4=Conv2D(256,(4,4),activation='relu')(m3)\n",
    "# f1=Flatten()(c4)\n",
    "# d1=Dense(4096,activation='sigmoid')(f1)\n",
    "# mod=Model(inputs=[inp],outputs=[d1],name='embedding')\n",
    "# mod.summary()"
   ]
  },
  {
   "cell_type": "code",
   "execution_count": null,
   "id": "3bdf75f0034f7ba2",
   "metadata": {
    "ExecuteTime": {
     "end_time": "2024-07-04T16:51:57.448413Z",
     "start_time": "2024-07-04T16:51:57.420142Z"
    },
    "collapsed": false
   },
   "outputs": [],
   "source": [
    "def make_embedding():\n",
    "    inp=Input(shape=(100,100,3),name='input_image')\n",
    "    #first block\n",
    "    c1=Conv2D(64,(10,10),activation='relu')(inp)\n",
    "    m1=MaxPooling2D(64,(2,2),padding='same')(c1)\n",
    "    # second block\n",
    "    c2=Conv2D(128,(7,7),activation='relu')(m1)\n",
    "    m2=MaxPooling2D(64,(2,2),padding='same')(c2)\n",
    "    # third Block\n",
    "    c3=Conv2D(128,(4,4),activation='relu')(m2)\n",
    "    m3=MaxPooling2D(64,(2,2),padding='same')(c3)\n",
    "    # final block\n",
    "    c4=Conv2D(256,(4,4),activation='relu')(m3)\n",
    "    f1=Flatten()(c4)\n",
    "    d1=Dense(4096,activation='sigmoid')(f1)\n",
    "        \n",
    "    return Model(inputs=[inp],outputs=[d1],name='embedding')"
   ]
  },
  {
   "cell_type": "code",
   "execution_count": null,
   "id": "b9b6fa71d9dbcb1c",
   "metadata": {
    "ExecuteTime": {
     "end_time": "2024-07-04T16:51:57.949747Z",
     "start_time": "2024-07-04T16:51:57.450505Z"
    },
    "collapsed": false
   },
   "outputs": [],
   "source": [
    "embedding=make_embedding()\n",
    "embedding.summary()"
   ]
  },
  {
   "cell_type": "code",
   "execution_count": null,
   "id": "24c48d17dae68eec",
   "metadata": {
    "ExecuteTime": {
     "end_time": "2024-07-04T16:51:57.965342Z",
     "start_time": "2024-07-04T16:51:57.954399Z"
    },
    "collapsed": false
   },
   "outputs": [],
   "source": [
    "class L1Dist(Layer):\n",
    "    def __init__(self,**kwargs):\n",
    "        super().__init__()\n",
    "    def call(self, input_embedding, validation_embedding):\n",
    "        return tf.math.abs(input_embedding-validation_embedding)"
   ]
  },
  {
   "cell_type": "code",
   "execution_count": null,
   "id": "ca8c5317cdb0096e",
   "metadata": {
    "ExecuteTime": {
     "end_time": "2024-07-04T16:51:57.980573Z",
     "start_time": "2024-07-04T16:51:57.968040Z"
    },
    "collapsed": false
   },
   "outputs": [],
   "source": [
    "l1=L1Dist()"
   ]
  },
  {
   "cell_type": "code",
   "execution_count": null,
   "id": "49465fedd1aba23d",
   "metadata": {
    "ExecuteTime": {
     "end_time": "2024-07-04T16:51:57.996864Z",
     "start_time": "2024-07-04T16:51:57.990175Z"
    },
    "collapsed": false
   },
   "outputs": [],
   "source": [
    "def make_siamese_model():\n",
    "    input_image=Input(name='input_image',shape=(100,100,3))\n",
    "    validation_input=Input(name='validation_input',shape=(100,100,3))\n",
    "    siamese_layer=L1Dist()\n",
    "    siamese_layer._name='distance'\n",
    "    distance=siamese_layer(embedding(input_image),embedding(validation_input))\n",
    "    classifier=Dense(1,activation='sigmoid')(distance)\n",
    "    return Model(inputs=[input_image,validation_input],outputs=classifier,name='SiameseNetwork')\n",
    "    "
   ]
  },
  {
   "cell_type": "code",
   "execution_count": null,
   "id": "1522876b9db58a49",
   "metadata": {
    "ExecuteTime": {
     "end_time": "2024-07-04T16:51:58.211678Z",
     "start_time": "2024-07-04T16:51:58.001255Z"
    },
    "collapsed": false
   },
   "outputs": [],
   "source": [
    "siamese_Model=make_siamese_model()\n",
    "siamese_Model.summary()"
   ]
  },
  {
   "cell_type": "markdown",
   "id": "acabaa0610d31231",
   "metadata": {
    "collapsed": false
   },
   "source": [
    "# Training"
   ]
  },
  {
   "cell_type": "code",
   "execution_count": null,
   "id": "857ef338e88ddb4a",
   "metadata": {
    "ExecuteTime": {
     "end_time": "2024-07-04T16:56:21.479909Z",
     "start_time": "2024-07-04T16:56:21.468175Z"
    },
    "collapsed": false
   },
   "outputs": [],
   "source": [
    "binary_cross_loss = tf.losses.BinaryCrossentropy()\n",
    "opt = tf.keras.optimizers.Adam(1e-4) # 0.0001"
   ]
  },
  {
   "cell_type": "code",
   "execution_count": null,
   "id": "9262710de72ba4",
   "metadata": {
    "ExecuteTime": {
     "end_time": "2024-07-04T16:56:31.699793Z",
     "start_time": "2024-07-04T16:56:31.692061Z"
    },
    "collapsed": false
   },
   "outputs": [],
   "source": [
    "checkpoint_dir = './training_checkpoints'\n",
    "checkpoint_prefix = os.path.join(checkpoint_dir, 'ckpt')\n",
    "checkpoint = tf.train.Checkpoint(opt=opt, siamese_model=siamese_Model)"
   ]
  },
  {
   "cell_type": "code",
   "execution_count": null,
   "id": "512636de904c56df",
   "metadata": {
    "ExecuteTime": {
     "end_time": "2024-07-04T16:56:32.863841Z",
     "start_time": "2024-07-04T16:56:32.834541Z"
    },
    "collapsed": false
   },
   "outputs": [],
   "source": [
    "test_batch = train_data.as_numpy_iterator()\n",
    "batch_1 = test_batch.next()\n",
    "X = batch_1[:2]\n",
    "y = batch_1[2]\n",
    "y"
   ]
  },
  {
   "cell_type": "code",
   "execution_count": null,
   "id": "a94ae26194cd190f",
   "metadata": {
    "ExecuteTime": {
     "end_time": "2024-07-04T16:57:05.847081Z",
     "start_time": "2024-07-04T16:57:05.825578Z"
    },
    "collapsed": false
   },
   "outputs": [],
   "source": [
    "@tf.function\n",
    "def train_step(batch):\n",
    "\n",
    "    # Record all of our operations \n",
    "    with tf.GradientTape() as tape:\n",
    "        # Get anchor and positive/negative image\n",
    "        X = batch[:2]\n",
    "        # Get label\n",
    "        y = batch[2]\n",
    "\n",
    "        # Forward pass\n",
    "        yhat = siamese_Model(X, training=True)\n",
    "        # Calculate loss\n",
    "        loss = binary_cross_loss(y, yhat)\n",
    "    print(loss)\n",
    "\n",
    "    # Calculate gradients\n",
    "    grad = tape.gradient(loss, siamese_Model.trainable_variables)\n",
    "\n",
    "    # Calculate updated weights and apply to siamese model\n",
    "    opt.apply_gradients(zip(grad, siamese_Model.trainable_variables))\n",
    "\n",
    "    # Return loss\n",
    "    return loss"
   ]
  },
  {
   "cell_type": "code",
   "execution_count": null,
   "id": "92a81cbb6a035c4b",
   "metadata": {
    "ExecuteTime": {
     "end_time": "2024-07-04T16:57:13.148373Z",
     "start_time": "2024-07-04T16:57:13.132028Z"
    },
    "collapsed": false
   },
   "outputs": [],
   "source": [
    "def train(data, EPOCHS):\n",
    "    # Loop through epochs\n",
    "    for epoch in range(1, EPOCHS+1):\n",
    "        print('\\n Epoch {}/{}'.format(epoch, EPOCHS))\n",
    "        progbar = tf.keras.utils.Progbar(len(data))\n",
    "\n",
    "        # Loop through each batch\n",
    "        for idx, batch in enumerate(data):\n",
    "            # Run train step here\n",
    "            train_step(batch)\n",
    "            progbar.update(idx+1)\n",
    "\n",
    "        # Save checkpoints\n",
    "        if epoch % 10 == 0:\n",
    "            checkpoint.save(file_prefix=checkpoint_prefix)"
   ]
  },
  {
   "cell_type": "code",
   "execution_count": null,
   "id": "ae61ffc020a6bbce",
   "metadata": {
    "ExecuteTime": {
     "start_time": "2024-07-04T17:12:07.234856Z"
    },
    "collapsed": false,
    "is_executing": true
   },
   "outputs": [],
   "source": [
    "EPOCHS = 50\n",
    "train(train_data, EPOCHS)"
   ]
  },
  {
   "cell_type": "code",
   "outputs": [],
   "source": [
    "from tensorflow.python.client import device_lib\n",
    "print(device_lib.list_local_devices())\n"
   ],
   "metadata": {
    "collapsed": false,
    "is_executing": true
   },
   "id": "a90182100e3310c1",
   "execution_count": null
  },
  {
   "cell_type": "code",
   "outputs": [
    {
     "data": {
      "text/plain": "[]"
     },
     "execution_count": 5,
     "metadata": {},
     "output_type": "execute_result"
    }
   ],
   "source": [
    "tf.config.experimental.list_physical_devices('GPU')"
   ],
   "metadata": {
    "collapsed": false,
    "ExecuteTime": {
     "end_time": "2024-07-04T17:35:25.721439Z",
     "start_time": "2024-07-04T17:35:25.690734Z"
    }
   },
   "id": "589ade55d57a88b0",
   "execution_count": 5
  },
  {
   "cell_type": "code",
   "outputs": [
    {
     "name": "stdout",
     "output_type": "stream",
     "text": [
      "[]\n"
     ]
    }
   ],
   "source": [
    "import tensorflow.python.client\n",
    "\n",
    "def get_available_gpus():\n",
    "    local_device_protos = device_lib.list_local_devices()\n",
    "    return [x.name for x in local_device_protos if x.device_type == 'GPU']\n",
    "\n",
    "print(get_available_gpus())\n",
    "\n"
   ],
   "metadata": {
    "collapsed": false,
    "ExecuteTime": {
     "end_time": "2024-07-04T17:39:36.985909Z",
     "start_time": "2024-07-04T17:39:36.973685Z"
    }
   },
   "id": "17f730ab224e0e52",
   "execution_count": 7
  },
  {
   "cell_type": "code",
   "outputs": [],
   "source": [],
   "metadata": {
    "collapsed": false
   },
   "id": "4c8fdb985cccf136"
  }
 ],
 "metadata": {
  "kernelspec": {
   "display_name": "Python 3 (ipykernel)",
   "language": "python",
   "name": "python3"
  },
  "language_info": {
   "codemirror_mode": {
    "name": "ipython",
    "version": 3
   },
   "file_extension": ".py",
   "mimetype": "text/x-python",
   "name": "python",
   "nbconvert_exporter": "python",
   "pygments_lexer": "ipython3",
   "version": "3.8.19"
  }
 },
 "nbformat": 4,
 "nbformat_minor": 5
}
